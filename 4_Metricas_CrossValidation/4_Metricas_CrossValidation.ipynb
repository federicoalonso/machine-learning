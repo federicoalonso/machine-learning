{
  "cells": [
    {
      "cell_type": "markdown",
      "metadata": {
        "id": "K-fevG5-dqz1"
      },
      "source": [
        "#Práctico 4: Métricas y Cross-Validation\n"
      ]
    },
    {
      "cell_type": "markdown",
      "metadata": {
        "id": "EKAa8E9yeoqM"
      },
      "source": [
        "## Librerías"
      ]
    },
    {
      "cell_type": "code",
      "execution_count": 45,
      "metadata": {
        "id": "8B1rHENcdnvZ"
      },
      "outputs": [],
      "source": [
        "import numpy as np\n",
        "import pandas as pd\n",
        "import matplotlib.pyplot as plt\n",
        "#from google.colab import drive, files\n",
        "from sklearn import tree\n",
        "import seaborn as sns\n",
        "from sklearn.metrics import accuracy_score, precision_score, recall_score, f1_score\n",
        "from sklearn.model_selection import train_test_split\n",
        "from sklearn.tree import DecisionTreeClassifier\n",
        "from sklearn.metrics import confusion_matrix, classification_report\n",
        "from sklearn.model_selection import cross_val_score\n",
        "from sklearn.model_selection import GridSearchCV\n",
        "from sklearn.metrics import plot_confusion_matrix"
      ]
    },
    {
      "cell_type": "markdown",
      "metadata": {
        "id": "PP8VzjbUevs1"
      },
      "source": [
        "##Carga de datos y preparación"
      ]
    },
    {
      "cell_type": "markdown",
      "metadata": {
        "id": "DyYOLQRrf5LA"
      },
      "source": [
        "El EDA de este dataset se realizó la clase pasada. Cargamos datos y aplicamos transformaciones ya vistas"
      ]
    },
    {
      "cell_type": "code",
      "execution_count": 46,
      "metadata": {
        "colab": {
          "base_uri": "https://localhost:8080/",
          "height": 224
        },
        "id": "lEAriAtJeFId",
        "outputId": "30e57725-ddd2-4f13-dcac-d6aed122f168"
      },
      "outputs": [
        {
          "data": {
            "text/html": [
              "<div>\n",
              "<style scoped>\n",
              "    .dataframe tbody tr th:only-of-type {\n",
              "        vertical-align: middle;\n",
              "    }\n",
              "\n",
              "    .dataframe tbody tr th {\n",
              "        vertical-align: top;\n",
              "    }\n",
              "\n",
              "    .dataframe thead th {\n",
              "        text-align: right;\n",
              "    }\n",
              "</style>\n",
              "<table border=\"1\" class=\"dataframe\">\n",
              "  <thead>\n",
              "    <tr style=\"text-align: right;\">\n",
              "      <th></th>\n",
              "      <th>clump_thicknes</th>\n",
              "      <th>cell_size</th>\n",
              "      <th>cell_shape</th>\n",
              "      <th>adhesion</th>\n",
              "      <th>epithelial_cell_size</th>\n",
              "      <th>chromatin</th>\n",
              "      <th>nucleoli</th>\n",
              "      <th>mitoses</th>\n",
              "      <th>target</th>\n",
              "    </tr>\n",
              "  </thead>\n",
              "  <tbody>\n",
              "    <tr>\n",
              "      <th>0</th>\n",
              "      <td>5</td>\n",
              "      <td>1</td>\n",
              "      <td>1</td>\n",
              "      <td>1</td>\n",
              "      <td>2</td>\n",
              "      <td>3</td>\n",
              "      <td>1</td>\n",
              "      <td>1</td>\n",
              "      <td>0</td>\n",
              "    </tr>\n",
              "    <tr>\n",
              "      <th>1</th>\n",
              "      <td>5</td>\n",
              "      <td>4</td>\n",
              "      <td>4</td>\n",
              "      <td>5</td>\n",
              "      <td>7</td>\n",
              "      <td>3</td>\n",
              "      <td>2</td>\n",
              "      <td>1</td>\n",
              "      <td>0</td>\n",
              "    </tr>\n",
              "    <tr>\n",
              "      <th>2</th>\n",
              "      <td>3</td>\n",
              "      <td>1</td>\n",
              "      <td>1</td>\n",
              "      <td>1</td>\n",
              "      <td>2</td>\n",
              "      <td>3</td>\n",
              "      <td>1</td>\n",
              "      <td>1</td>\n",
              "      <td>0</td>\n",
              "    </tr>\n",
              "    <tr>\n",
              "      <th>3</th>\n",
              "      <td>6</td>\n",
              "      <td>8</td>\n",
              "      <td>8</td>\n",
              "      <td>1</td>\n",
              "      <td>3</td>\n",
              "      <td>3</td>\n",
              "      <td>7</td>\n",
              "      <td>1</td>\n",
              "      <td>0</td>\n",
              "    </tr>\n",
              "    <tr>\n",
              "      <th>4</th>\n",
              "      <td>4</td>\n",
              "      <td>1</td>\n",
              "      <td>1</td>\n",
              "      <td>3</td>\n",
              "      <td>2</td>\n",
              "      <td>3</td>\n",
              "      <td>1</td>\n",
              "      <td>1</td>\n",
              "      <td>0</td>\n",
              "    </tr>\n",
              "  </tbody>\n",
              "</table>\n",
              "</div>"
            ],
            "text/plain": [
              "   clump_thicknes  cell_size  cell_shape  adhesion  epithelial_cell_size  \\\n",
              "0               5          1           1         1                     2   \n",
              "1               5          4           4         5                     7   \n",
              "2               3          1           1         1                     2   \n",
              "3               6          8           8         1                     3   \n",
              "4               4          1           1         3                     2   \n",
              "\n",
              "   chromatin  nucleoli  mitoses  target  \n",
              "0          3         1        1       0  \n",
              "1          3         2        1       0  \n",
              "2          3         1        1       0  \n",
              "3          3         7        1       0  \n",
              "4          3         1        1       0  "
            ]
          },
          "execution_count": 46,
          "metadata": {},
          "output_type": "execute_result"
        }
      ],
      "source": [
        "#drive.mount('/content/drive')\n",
        "#breast_cancer_df=pd.read_csv(\"/content/drive/My Drive/data/breast-cancer-wisconsin.csv\", header = None,sep = \",\")\n",
        "breast_cancer_df=pd.read_csv(\"./breast-cancer-wisconsin.csv\", header = None,sep = \",\")\n",
        "\n",
        "breast_cancer_df.columns = [\"Id\", \"clump_thicknes\", \"cell_size\", \"cell_shape\", \"adhesion\", \"epithelial_cell_size\", \"nuclei\", \"chromatin\", \"nucleoli\", \"mitoses\", \"target\"]\n",
        "breast_cancer_df[\"target\"].replace(2, 0, inplace=True)\n",
        "breast_cancer_df[\"target\"].replace(4, 1, inplace=True)\n",
        "breast_cancer_df.drop(columns=[\"Id\", \"nuclei\"], inplace=True)\n",
        "breast_cancer_df.head()"
      ]
    },
    {
      "cell_type": "code",
      "execution_count": 47,
      "metadata": {
        "colab": {
          "base_uri": "https://localhost:8080/"
        },
        "id": "JeRvMfQxf3G2",
        "outputId": "00c0cb22-13ca-4930-e0e9-2af0c18d1a2b"
      },
      "outputs": [
        {
          "name": "stdout",
          "output_type": "stream",
          "text": [
            "<class 'pandas.core.frame.DataFrame'>\n",
            "RangeIndex: 699 entries, 0 to 698\n",
            "Data columns (total 9 columns):\n",
            " #   Column                Non-Null Count  Dtype\n",
            "---  ------                --------------  -----\n",
            " 0   clump_thicknes        699 non-null    int64\n",
            " 1   cell_size             699 non-null    int64\n",
            " 2   cell_shape            699 non-null    int64\n",
            " 3   adhesion              699 non-null    int64\n",
            " 4   epithelial_cell_size  699 non-null    int64\n",
            " 5   chromatin             699 non-null    int64\n",
            " 6   nucleoli              699 non-null    int64\n",
            " 7   mitoses               699 non-null    int64\n",
            " 8   target                699 non-null    int64\n",
            "dtypes: int64(9)\n",
            "memory usage: 49.3 KB\n"
          ]
        }
      ],
      "source": [
        "breast_cancer_df.info()"
      ]
    },
    {
      "cell_type": "markdown",
      "metadata": {
        "id": "In-ivx7Vg5Fe"
      },
      "source": [
        "## Separación de datos"
      ]
    },
    {
      "cell_type": "code",
      "execution_count": 48,
      "metadata": {
        "id": "jJUbRLX7g7sp"
      },
      "outputs": [],
      "source": [
        "random_state = 42\n",
        "\n",
        "X = breast_cancer_df.drop(['target'], axis=1)\n",
        "y = breast_cancer_df['target']\n",
        "\n",
        "X_train, X_test, y_train, y_test = train_test_split(X, y, test_size=0.35, random_state = random_state)"
      ]
    },
    {
      "cell_type": "markdown",
      "metadata": {
        "id": "9i07r2CWfyRA"
      },
      "source": [
        "## Entrenamiento"
      ]
    },
    {
      "cell_type": "code",
      "execution_count": 49,
      "metadata": {
        "id": "KLllEhqGfzmm"
      },
      "outputs": [],
      "source": [
        "def init_models():\n",
        "  arbol_entropy = tree.DecisionTreeClassifier(criterion=\"entropy\", max_depth=5) \n",
        "  arbol_entropy_more_complex = tree.DecisionTreeClassifier(criterion=\"entropy\") \n",
        "  return arbol_entropy, arbol_entropy_more_complex"
      ]
    },
    {
      "cell_type": "code",
      "execution_count": 50,
      "metadata": {
        "id": "58tfbu8G6Ld2"
      },
      "outputs": [],
      "source": [
        "arbol_entropy, arbol_entropy_more_complex = init_models()"
      ]
    },
    {
      "cell_type": "code",
      "execution_count": 51,
      "metadata": {
        "colab": {
          "base_uri": "https://localhost:8080/"
        },
        "id": "oqgXQ6duf2go",
        "outputId": "5819392b-e7d5-4ad4-99ed-996f723c0aea"
      },
      "outputs": [
        {
          "data": {
            "text/html": [
              "<style>#sk-container-id-3 {color: black;background-color: white;}#sk-container-id-3 pre{padding: 0;}#sk-container-id-3 div.sk-toggleable {background-color: white;}#sk-container-id-3 label.sk-toggleable__label {cursor: pointer;display: block;width: 100%;margin-bottom: 0;padding: 0.3em;box-sizing: border-box;text-align: center;}#sk-container-id-3 label.sk-toggleable__label-arrow:before {content: \"▸\";float: left;margin-right: 0.25em;color: #696969;}#sk-container-id-3 label.sk-toggleable__label-arrow:hover:before {color: black;}#sk-container-id-3 div.sk-estimator:hover label.sk-toggleable__label-arrow:before {color: black;}#sk-container-id-3 div.sk-toggleable__content {max-height: 0;max-width: 0;overflow: hidden;text-align: left;background-color: #f0f8ff;}#sk-container-id-3 div.sk-toggleable__content pre {margin: 0.2em;color: black;border-radius: 0.25em;background-color: #f0f8ff;}#sk-container-id-3 input.sk-toggleable__control:checked~div.sk-toggleable__content {max-height: 200px;max-width: 100%;overflow: auto;}#sk-container-id-3 input.sk-toggleable__control:checked~label.sk-toggleable__label-arrow:before {content: \"▾\";}#sk-container-id-3 div.sk-estimator input.sk-toggleable__control:checked~label.sk-toggleable__label {background-color: #d4ebff;}#sk-container-id-3 div.sk-label input.sk-toggleable__control:checked~label.sk-toggleable__label {background-color: #d4ebff;}#sk-container-id-3 input.sk-hidden--visually {border: 0;clip: rect(1px 1px 1px 1px);clip: rect(1px, 1px, 1px, 1px);height: 1px;margin: -1px;overflow: hidden;padding: 0;position: absolute;width: 1px;}#sk-container-id-3 div.sk-estimator {font-family: monospace;background-color: #f0f8ff;border: 1px dotted black;border-radius: 0.25em;box-sizing: border-box;margin-bottom: 0.5em;}#sk-container-id-3 div.sk-estimator:hover {background-color: #d4ebff;}#sk-container-id-3 div.sk-parallel-item::after {content: \"\";width: 100%;border-bottom: 1px solid gray;flex-grow: 1;}#sk-container-id-3 div.sk-label:hover label.sk-toggleable__label {background-color: #d4ebff;}#sk-container-id-3 div.sk-serial::before {content: \"\";position: absolute;border-left: 1px solid gray;box-sizing: border-box;top: 0;bottom: 0;left: 50%;z-index: 0;}#sk-container-id-3 div.sk-serial {display: flex;flex-direction: column;align-items: center;background-color: white;padding-right: 0.2em;padding-left: 0.2em;position: relative;}#sk-container-id-3 div.sk-item {position: relative;z-index: 1;}#sk-container-id-3 div.sk-parallel {display: flex;align-items: stretch;justify-content: center;background-color: white;position: relative;}#sk-container-id-3 div.sk-item::before, #sk-container-id-3 div.sk-parallel-item::before {content: \"\";position: absolute;border-left: 1px solid gray;box-sizing: border-box;top: 0;bottom: 0;left: 50%;z-index: -1;}#sk-container-id-3 div.sk-parallel-item {display: flex;flex-direction: column;z-index: 1;position: relative;background-color: white;}#sk-container-id-3 div.sk-parallel-item:first-child::after {align-self: flex-end;width: 50%;}#sk-container-id-3 div.sk-parallel-item:last-child::after {align-self: flex-start;width: 50%;}#sk-container-id-3 div.sk-parallel-item:only-child::after {width: 0;}#sk-container-id-3 div.sk-dashed-wrapped {border: 1px dashed gray;margin: 0 0.4em 0.5em 0.4em;box-sizing: border-box;padding-bottom: 0.4em;background-color: white;}#sk-container-id-3 div.sk-label label {font-family: monospace;font-weight: bold;display: inline-block;line-height: 1.2em;}#sk-container-id-3 div.sk-label-container {text-align: center;}#sk-container-id-3 div.sk-container {/* jupyter's `normalize.less` sets `[hidden] { display: none; }` but bootstrap.min.css set `[hidden] { display: none !important; }` so we also need the `!important` here to be able to override the default hidden behavior on the sphinx rendered scikit-learn.org. See: https://github.com/scikit-learn/scikit-learn/issues/21755 */display: inline-block !important;position: relative;}#sk-container-id-3 div.sk-text-repr-fallback {display: none;}</style><div id=\"sk-container-id-3\" class=\"sk-top-container\"><div class=\"sk-text-repr-fallback\"><pre>DecisionTreeClassifier(criterion=&#x27;entropy&#x27;)</pre><b>In a Jupyter environment, please rerun this cell to show the HTML representation or trust the notebook. <br />On GitHub, the HTML representation is unable to render, please try loading this page with nbviewer.org.</b></div><div class=\"sk-container\" hidden><div class=\"sk-item\"><div class=\"sk-estimator sk-toggleable\"><input class=\"sk-toggleable__control sk-hidden--visually\" id=\"sk-estimator-id-3\" type=\"checkbox\" checked><label for=\"sk-estimator-id-3\" class=\"sk-toggleable__label sk-toggleable__label-arrow\">DecisionTreeClassifier</label><div class=\"sk-toggleable__content\"><pre>DecisionTreeClassifier(criterion=&#x27;entropy&#x27;)</pre></div></div></div></div></div>"
            ],
            "text/plain": [
              "DecisionTreeClassifier(criterion='entropy')"
            ]
          },
          "execution_count": 51,
          "metadata": {},
          "output_type": "execute_result"
        }
      ],
      "source": [
        "arbol_entropy.fit(X_train, y_train)\n",
        "arbol_entropy_more_complex.fit(X_train, y_train)"
      ]
    },
    {
      "cell_type": "markdown",
      "metadata": {
        "id": "6pRfmfwyfwYr"
      },
      "source": [
        "## Métricas para evaluación\n"
      ]
    },
    {
      "cell_type": "markdown",
      "metadata": {
        "id": "eEZbUpi0lrje"
      },
      "source": [
        "Con el classification_report veo los valores de cada métrica para una  predicción."
      ]
    },
    {
      "cell_type": "code",
      "execution_count": 52,
      "metadata": {
        "colab": {
          "base_uri": "https://localhost:8080/"
        },
        "id": "RdUwGI6PgH62",
        "outputId": "61275f9d-93d8-43fd-e93b-5ca8c73e2e36"
      },
      "outputs": [
        {
          "name": "stdout",
          "output_type": "stream",
          "text": [
            "Árbol simple:\n",
            "               precision    recall  f1-score   support\n",
            "\n",
            "           0       0.95      0.96      0.95       164\n",
            "           1       0.91      0.89      0.90        81\n",
            "\n",
            "    accuracy                           0.93       245\n",
            "   macro avg       0.93      0.92      0.93       245\n",
            "weighted avg       0.93      0.93      0.93       245\n",
            "\n"
          ]
        }
      ],
      "source": [
        "print(\"Árbol simple:\\n\", classification_report(y_test, arbol_entropy.predict(X_test)))"
      ]
    },
    {
      "cell_type": "code",
      "execution_count": 53,
      "metadata": {
        "colab": {
          "base_uri": "https://localhost:8080/"
        },
        "id": "No1Kehv_mVBR",
        "outputId": "6888738c-7d02-4632-b480-bc65868aab74"
      },
      "outputs": [
        {
          "name": "stdout",
          "output_type": "stream",
          "text": [
            "Árbol más complejo:\n",
            "               precision    recall  f1-score   support\n",
            "\n",
            "           0       0.94      0.97      0.95       164\n",
            "           1       0.93      0.86      0.90        81\n",
            "\n",
            "    accuracy                           0.93       245\n",
            "   macro avg       0.93      0.92      0.92       245\n",
            "weighted avg       0.93      0.93      0.93       245\n",
            "\n"
          ]
        }
      ],
      "source": [
        "print(\"Árbol más complejo:\\n\", classification_report(y_test, arbol_entropy_more_complex.predict(X_test)))"
      ]
    },
    {
      "cell_type": "markdown",
      "metadata": {
        "id": "99tLUaDVlF7l"
      },
      "source": [
        "Accuracy: Cuantos predije correctamente.  \n",
        "\n",
        "= (TP + TN) / (TP + FP + TN + FN)  \n",
        "= (TP + TN) / MuestrasTotales"
      ]
    },
    {
      "cell_type": "code",
      "execution_count": 54,
      "metadata": {
        "colab": {
          "base_uri": "https://localhost:8080/"
        },
        "id": "JkhZcy1ExGdR",
        "outputId": "6eb562fe-1562-42e5-c36a-5dadee735c22"
      },
      "outputs": [
        {
          "data": {
            "text/plain": [
              "0.9346938775510204"
            ]
          },
          "execution_count": 54,
          "metadata": {},
          "output_type": "execute_result"
        }
      ],
      "source": [
        "accuracy_score(y_test, arbol_entropy.predict(X_test))"
      ]
    },
    {
      "cell_type": "markdown",
      "metadata": {
        "id": "VgU10g6skUfX"
      },
      "source": [
        "Precision: Cuantos de los que dije que eran true, realmente lo eran.  \n",
        "\n",
        "= TP / (TP + FP)"
      ]
    },
    {
      "cell_type": "code",
      "execution_count": 55,
      "metadata": {
        "colab": {
          "base_uri": "https://localhost:8080/"
        },
        "id": "NePTz3NsxN6H",
        "outputId": "570e48b2-f75c-4a11-a4b7-2907cfa9c1c8"
      },
      "outputs": [
        {
          "data": {
            "text/plain": [
              "0.9113924050632911"
            ]
          },
          "execution_count": 55,
          "metadata": {},
          "output_type": "execute_result"
        }
      ],
      "source": [
        "precision_score(y_test, arbol_entropy.predict(X_test))"
      ]
    },
    {
      "cell_type": "markdown",
      "metadata": {
        "id": "HD0zP7NhkaQ7"
      },
      "source": [
        "Recall: Cuantos de los que eran true logré predecir correctamente.  \n",
        "= TP / (TP + FN)"
      ]
    },
    {
      "cell_type": "code",
      "execution_count": 56,
      "metadata": {
        "colab": {
          "base_uri": "https://localhost:8080/"
        },
        "id": "0e69eI3QxSf5",
        "outputId": "b723db02-2654-44d5-f5fe-8edbdf732a3e"
      },
      "outputs": [
        {
          "data": {
            "text/plain": [
              "0.8888888888888888"
            ]
          },
          "execution_count": 56,
          "metadata": {},
          "output_type": "execute_result"
        }
      ],
      "source": [
        "recall_score(y_test, arbol_entropy.predict(X_test))"
      ]
    },
    {
      "cell_type": "markdown",
      "metadata": {
        "id": "5sxs_hwxmz9g"
      },
      "source": [
        "F1-Score: Media armónica entre Precision y Recall.\n",
        "2 * (P * R) / (P + R)"
      ]
    },
    {
      "cell_type": "code",
      "execution_count": 57,
      "metadata": {
        "colab": {
          "base_uri": "https://localhost:8080/"
        },
        "id": "8ZQWXSSHxcsi",
        "outputId": "71e9014e-39d8-40fb-90c9-da7401189114"
      },
      "outputs": [
        {
          "data": {
            "text/plain": [
              "0.8999999999999999"
            ]
          },
          "execution_count": 57,
          "metadata": {},
          "output_type": "execute_result"
        }
      ],
      "source": [
        "f1_score(y_test, arbol_entropy.predict(X_test))"
      ]
    },
    {
      "cell_type": "markdown",
      "metadata": {
        "id": "0BYlFM0JhDMN"
      },
      "source": [
        "Weighted accuracy mide la accuracy \"pesando\" cada una de las categorías. Cuando esos pesos los definimos inversamente proporcionales al soporte de cada elemento (el que se ve menos representado, \"pesa más\"), entonces Weighted Accuracy = MAR"
      ]
    },
    {
      "cell_type": "markdown",
      "metadata": {
        "id": "i2HzBMj5s9vJ"
      },
      "source": [
        "### Ejercicio 1\n",
        "Defina una función get_tnpf que reciba y_true, y_pred y retorne cantidad de TP, TN, FP y FN."
      ]
    },
    {
      "cell_type": "markdown",
      "metadata": {
        "id": "nGXAY6P52yGo"
      },
      "source": [
        "Firma y assertions a utilizar:  \n",
        "\n",
        "```\n",
        "def get_tnpf(y_true, y_pred):\n",
        "  assert type(y_true) is type(np.ndarray(shape=(2,2))), 'Only numpy.ndarray allowed in y_true.'\n",
        "  assert type(y_pred) is type(np.ndarray(shape=(2,2))), 'Only numpy.ndarray allowed in y_pred.'\n",
        "  assert len(y_pred) == len(y_true), 'y_pred must be the same length as y_true'\n",
        "```\n",
        "\n"
      ]
    },
    {
      "cell_type": "code",
      "execution_count": 58,
      "metadata": {
        "id": "jvFNJUgOyIC-"
      },
      "outputs": [],
      "source": [
        "def get_tnpf(y_true, y_pred):\n",
        "    assert type(y_true) is type(np.ndarray(shape=(2,2))), 'Only numpy.ndarray allowed in y_true.'\n",
        "    assert type(y_pred) is type(np.ndarray(shape=(2,2))), 'Only numpy.ndarray allowed in y_pred.'\n",
        "    assert len(y_pred) == len(y_true), 'y_pred must be the same length as y_true'\n",
        "\n",
        "    elementsCount = len(y_true)\n",
        "    tp = 0\n",
        "    tn = 0\n",
        "    fp = 0\n",
        "    fn = 0\n",
        "    for i in range(elementsCount):\n",
        "        #print(y_pred[i])\n",
        "        if(y_pred[i] == 1):\n",
        "            if(y_pred[i] == y_true[i]):\n",
        "                tp += 1\n",
        "            else:\n",
        "                fp += 1\n",
        "        else:\n",
        "            if(y_pred[i] == y_true[i]):\n",
        "                tn += 1\n",
        "            else:\n",
        "                fn += 1\n",
        "    return tp, tn, fp, fn"
      ]
    },
    {
      "cell_type": "markdown",
      "metadata": {
        "id": "0QB2H8PN3CUO"
      },
      "source": [
        "### Ejercicio 2\n",
        "Utilizando la función get_tnpf(), defina defina 3 funciones que calculen accuracy, precision, recall, f1-score. Compare los resultados con los obtenidos anteriormente desde sklearn."
      ]
    },
    {
      "cell_type": "markdown",
      "metadata": {
        "id": "lip3DZ7l3WDj"
      },
      "source": [
        "Firmas a utilizar:  \n",
        "\n",
        "\n",
        "```\n",
        "def manually_precision_score(y_true, y_pred):\n",
        "  pass\n",
        "```  \n",
        "\n",
        "```\n",
        "def manually_recall_score(y_true, y_pred):\n",
        "  pass\n",
        "```  \n",
        "\n",
        "```\n",
        "def manually_accuracy_score(y_true, y_pred):\n",
        "  pass\n",
        "```  \n",
        "\n",
        "```\n",
        "def manually_f1_score(y_true, y_pred):\n",
        "  pass\n",
        "```  \n",
        "\n",
        "\n"
      ]
    },
    {
      "cell_type": "code",
      "execution_count": 59,
      "metadata": {
        "id": "38b_5Vi2tJ9F"
      },
      "outputs": [],
      "source": [
        "def manually_precision_score(y_true, y_pred):\n",
        "  tp, tn, fp, fn = get_tnpf(y_true, y_pred)\n",
        "  return tp / (tp + fp)\n",
        "\n",
        "def manually_recall_score(y_true, y_pred):\n",
        "  tp, tn, fp, fn = get_tnpf(y_true, y_pred)\n",
        "  return tp / (tp + fn)\n",
        "\n",
        "def manually_accuracy_score(y_true, y_pred):\n",
        "  tp, tn, fp, fn = get_tnpf(y_true, y_pred)\n",
        "  return (tp + tn) / (tn + fn + tp + fp)\n",
        "\n",
        "def manually_f1_score(y_true, y_pred):\n",
        "  p = manually_precision_score(y_true, y_pred)\n",
        "  r = manually_recall_score(y_true, y_pred)\n",
        "  return 2 * (p * r / (p + r))"
      ]
    },
    {
      "cell_type": "code",
      "execution_count": 60,
      "metadata": {
        "colab": {
          "base_uri": "https://localhost:8080/"
        },
        "id": "r0KEHIrcuJpI",
        "outputId": "7af4995f-4e3f-4635-911e-22d7960dd215"
      },
      "outputs": [
        {
          "name": "stdout",
          "output_type": "stream",
          "text": [
            "Precision manually: 0.9113924050632911 \n",
            "Precision SKLearn:  0.9113924050632911 \n",
            "\n",
            "Recall manually: 0.8888888888888888 \n",
            "Recall SKLearn:  0.8888888888888888 \n",
            "\n",
            "Accuracy manually: 0.9346938775510204 \n",
            "Accuracy SKLearn:  0.9346938775510204 \n",
            "\n",
            "F1-Score manually: 0.8999999999999999 \n",
            "F1-Score SKLearn:  0.8999999999999999 \n",
            "\n"
          ]
        }
      ],
      "source": [
        "tp, tn, fp, fn = get_tnpf(y_test.to_numpy(), arbol_entropy.predict(X_test))\n",
        "print(\"Precision manually:\",manually_precision_score(y_test.to_numpy(), arbol_entropy.predict(X_test)),\"\\nPrecision SKLearn: \",precision_score(y_test, arbol_entropy.predict(X_test)),\"\\n\")\n",
        "print(\"Recall manually:\",manually_recall_score(y_test.to_numpy(), arbol_entropy.predict(X_test)),\"\\nRecall SKLearn: \",recall_score(y_test, arbol_entropy.predict(X_test)),\"\\n\")\n",
        "print(\"Accuracy manually:\",manually_accuracy_score(y_test.to_numpy(), arbol_entropy.predict(X_test)),\"\\nAccuracy SKLearn: \",accuracy_score(y_test, arbol_entropy.predict(X_test)),\"\\n\")\n",
        "print(\"F1-Score manually:\",manually_f1_score(y_test.to_numpy(), arbol_entropy.predict(X_test)),\"\\nF1-Score SKLearn: \",f1_score(y_test, arbol_entropy.predict(X_test)),\"\\n\")"
      ]
    },
    {
      "cell_type": "code",
      "execution_count": 61,
      "metadata": {},
      "outputs": [
        {
          "data": {
            "text/plain": [
              "(72, 157, 7, 9)"
            ]
          },
          "execution_count": 61,
          "metadata": {},
          "output_type": "execute_result"
        }
      ],
      "source": [
        "get_tnpf(y_test.to_numpy(), arbol_entropy.predict(X_test))"
      ]
    },
    {
      "cell_type": "markdown",
      "metadata": {
        "id": "eIRWVsvHgu7s"
      },
      "source": [
        "## K-Fold Cross Validation"
      ]
    },
    {
      "cell_type": "code",
      "execution_count": 75,
      "metadata": {
        "id": "DKnCUUUR6Sv3"
      },
      "outputs": [],
      "source": [
        "arbol_entropy, arbol_entropy_more_complex = init_models()"
      ]
    },
    {
      "cell_type": "code",
      "execution_count": 76,
      "metadata": {
        "id": "2K3Tc-Xog01C"
      },
      "outputs": [],
      "source": [
        "scores_cv_simplest = cross_val_score(arbol_entropy, X_train, y_train, cv=5, scoring='accuracy')\n",
        "scores_cv_complex = cross_val_score(arbol_entropy_more_complex, X_train, y_train, cv=5, scoring='accuracy')"
      ]
    },
    {
      "cell_type": "code",
      "execution_count": 77,
      "metadata": {
        "colab": {
          "base_uri": "https://localhost:8080/"
        },
        "id": "Jm6PV4PXhQ6B",
        "outputId": "b103971b-a78d-4d06-b511-6c00de927acb"
      },
      "outputs": [
        {
          "data": {
            "text/plain": [
              "dict_keys(['explained_variance', 'r2', 'max_error', 'matthews_corrcoef', 'neg_median_absolute_error', 'neg_mean_absolute_error', 'neg_mean_absolute_percentage_error', 'neg_mean_squared_error', 'neg_mean_squared_log_error', 'neg_root_mean_squared_error', 'neg_mean_poisson_deviance', 'neg_mean_gamma_deviance', 'accuracy', 'top_k_accuracy', 'roc_auc', 'roc_auc_ovr', 'roc_auc_ovo', 'roc_auc_ovr_weighted', 'roc_auc_ovo_weighted', 'balanced_accuracy', 'average_precision', 'neg_log_loss', 'neg_brier_score', 'adjusted_rand_score', 'rand_score', 'homogeneity_score', 'completeness_score', 'v_measure_score', 'mutual_info_score', 'adjusted_mutual_info_score', 'normalized_mutual_info_score', 'fowlkes_mallows_score', 'precision', 'precision_macro', 'precision_micro', 'precision_samples', 'precision_weighted', 'recall', 'recall_macro', 'recall_micro', 'recall_samples', 'recall_weighted', 'f1', 'f1_macro', 'f1_micro', 'f1_samples', 'f1_weighted', 'jaccard', 'jaccard_macro', 'jaccard_micro', 'jaccard_samples', 'jaccard_weighted'])"
            ]
          },
          "execution_count": 77,
          "metadata": {},
          "output_type": "execute_result"
        }
      ],
      "source": [
        "#Metricas aceptadas\n",
        "from sklearn import metrics\n",
        "metrics.SCORERS.keys()"
      ]
    },
    {
      "cell_type": "code",
      "execution_count": 78,
      "metadata": {
        "colab": {
          "base_uri": "https://localhost:8080/"
        },
        "id": "GIEPuCa7hWm9",
        "outputId": "fa03ca75-697d-4eed-ccea-d784afef30b9"
      },
      "outputs": [
        {
          "name": "stdout",
          "output_type": "stream",
          "text": [
            "Accuracy (k-folds)\n",
            "==================\n",
            "\n",
            "(Simplest tree) = 0.9426862026862027 [0.92307692 0.95604396 0.95604396 0.95604396 0.92222222]\n",
            "(Complex tree) = 0.9383150183150184 [0.95604396 0.91208791 0.94505495 0.94505495 0.93333333]\n"
          ]
        }
      ],
      "source": [
        "print(\"Accuracy (k-folds)\")\n",
        "print(\"==================\\n\")\n",
        "print(f'(Simplest tree) = {np.mean(scores_cv_simplest)} {scores_cv_simplest}')\n",
        "print(f'(Complex tree) = {np.mean(scores_cv_complex)} {scores_cv_complex}')"
      ]
    },
    {
      "cell_type": "markdown",
      "metadata": {
        "id": "-REzAraN5BN4"
      },
      "source": [
        "Una forma de buscar un hiperparámetro óptimo utilizando CV"
      ]
    },
    {
      "cell_type": "code",
      "execution_count": 79,
      "metadata": {
        "colab": {
          "base_uri": "https://localhost:8080/"
        },
        "id": "scrpVffXh8pn",
        "outputId": "8d18a7ad-feaf-4f3f-98cb-25be77a13fd0"
      },
      "outputs": [
        {
          "name": "stdout",
          "output_type": "stream",
          "text": [
            "(alpha) = 2 (mean score) = 0.9183638583638583\n",
            "(alpha) = 3 (mean score) = 0.9294749694749695\n",
            "(alpha) = 4 (mean score) = 0.9426617826617827\n",
            "(alpha) = 6 (mean score) = 0.933894993894994\n",
            "(alpha) = 10 (mean score) = 0.9317460317460318\n",
            "(alpha) = 15 (mean score) = 0.9273015873015874\n",
            "(alpha) = 20 (mean score) = 0.9273015873015874\n"
          ]
        }
      ],
      "source": [
        "for alpha in [2, 3, 4, 6, 10, 15, 20]:\n",
        "  arbol_aux = tree.DecisionTreeClassifier(criterion=\"entropy\", max_depth=alpha, random_state=8) \n",
        "  scores_arbol_aux = cross_val_score(arbol_aux, X_train, y_train, cv=5, scoring='accuracy')\n",
        "  print(f'(alpha) = {alpha} (mean score) = {np.mean(scores_arbol_aux)}')"
      ]
    },
    {
      "cell_type": "markdown",
      "metadata": {
        "id": "FVrE7j07ikL_"
      },
      "source": [
        "### K-Fold (manual)\n",
        "Definamos una función que haga lo mismo que cross_val_score de sklearn"
      ]
    },
    {
      "cell_type": "code",
      "execution_count": 80,
      "metadata": {
        "id": "GXgxh80yifFn"
      },
      "outputs": [],
      "source": [
        "import math\n",
        "k = 5\n",
        "\n",
        "def k_folds(X, y, k):\n",
        "  assert(len(X) == len(y))\n",
        "  folds_X = []\n",
        "  folds_y = []\n",
        "  initial_pos = 0\n",
        "  elementsCount=len(X)\n",
        "  elementsPerFold=math.ceil(elementsCount/k)\n",
        "\n",
        "  for i in range(k):#0,1,2,3,4\n",
        "    to_pos = min(elementsPerFold*(i+1), elementsCount)\n",
        "    \n",
        "    x_fold = X[initial_pos:to_pos]\n",
        "    y_fold = y[initial_pos:to_pos]\n",
        "\n",
        "    folds_X.append(x_fold)\n",
        "    folds_y.append(y_fold)\n",
        "\n",
        "    initial_pos = to_pos\n",
        "\n",
        "  return folds_X, folds_y"
      ]
    },
    {
      "cell_type": "markdown",
      "metadata": {
        "id": "4uUG5eIuiqIk"
      },
      "source": [
        "### Ejercicio 3\n",
        "Defina la función evaluate que utiliza k\\_fold\\_cross\\_val."
      ]
    },
    {
      "cell_type": "markdown",
      "metadata": {
        "id": "t2qK9TM35OqE"
      },
      "source": [
        "Firma a utilizar:  \n",
        "\n",
        "\n",
        "\n",
        "```\n",
        "def evaluate(model, evaluation_function, X_to_eval, y_to_eval):\n",
        "  pass\n",
        "```\n",
        "\n"
      ]
    },
    {
      "cell_type": "code",
      "execution_count": 81,
      "metadata": {},
      "outputs": [],
      "source": [
        "def evaluate(model, evaluation_function, X_to_eval, y_to_eval):\n",
        "    \n",
        "    return evaluation_function(y_to_eval, model.predict(X_to_eval))"
      ]
    },
    {
      "cell_type": "code",
      "execution_count": 82,
      "metadata": {
        "id": "aADQEWCaiv3u"
      },
      "outputs": [],
      "source": [
        "def k_fold_cross_val(folds_X, folds_y, model, evaluation_function):\n",
        "  assert(len(folds_X) == len(folds_y))\n",
        "  X_to_eval = []\n",
        "  y_to_eval = []\n",
        "  elementsCount=len(folds_X)\n",
        "  scores = []\n",
        "  for i in range(elementsCount):\n",
        "    X_to_train = []\n",
        "    y_to_train = []\n",
        "    for j in range(elementsCount):\n",
        "      if  i == j:\n",
        "        X_to_eval = folds_X[i]\n",
        "        y_to_eval = folds_y[i]\n",
        "      else:\n",
        "        X_to_train.append(folds_X[j])\n",
        "        y_to_train.append(folds_y[j])\n",
        "\n",
        "    #tenia lista append, transformo en martriz concatenando listas\n",
        "    X_train = np.concatenate(X_to_train)\n",
        "    y_train = np.concatenate(y_to_train)\n",
        "    \n",
        "    model.fit(X_train,y_train)\n",
        "\n",
        "    score = round(evaluate(model, evaluation_function, X_to_eval, y_to_eval),8)\n",
        "    scores.append(score)\n",
        "  return np.mean(np.array(scores)), scores"
      ]
    },
    {
      "cell_type": "code",
      "execution_count": 83,
      "metadata": {
        "id": "N173FDDoi2Va"
      },
      "outputs": [
        {
          "name": "stderr",
          "output_type": "stream",
          "text": [
            "/tmp/ipykernel_7773/2114503259.py:16: FutureWarning: The behavior of `series[i:j]` with an integer-dtype index is deprecated. In a future version, this will be treated as *label-based* indexing, consistent with e.g. `series[i]` lookups. To retain the old behavior, use `series.iloc[i:j]`. To get the future behavior, use `series.loc[i:j]`.\n",
            "  y_fold = y[initial_pos:to_pos]\n"
          ]
        }
      ],
      "source": [
        "folds_X, folds_y = k_folds(X_train, y_train, 5)"
      ]
    },
    {
      "cell_type": "code",
      "execution_count": 84,
      "metadata": {
        "colab": {
          "base_uri": "https://localhost:8080/"
        },
        "id": "jSAIHh_ii4ao",
        "outputId": "e3d7c745-615d-40cf-e979-197b2b86db8d"
      },
      "outputs": [
        {
          "name": "stderr",
          "output_type": "stream",
          "text": [
            "/home/fedrico/.local/lib/python3.10/site-packages/sklearn/base.py:443: UserWarning: X has feature names, but DecisionTreeClassifier was fitted without feature names\n",
            "  warnings.warn(\n",
            "/home/fedrico/.local/lib/python3.10/site-packages/sklearn/base.py:443: UserWarning: X has feature names, but DecisionTreeClassifier was fitted without feature names\n",
            "  warnings.warn(\n",
            "/home/fedrico/.local/lib/python3.10/site-packages/sklearn/base.py:443: UserWarning: X has feature names, but DecisionTreeClassifier was fitted without feature names\n",
            "  warnings.warn(\n",
            "/home/fedrico/.local/lib/python3.10/site-packages/sklearn/base.py:443: UserWarning: X has feature names, but DecisionTreeClassifier was fitted without feature names\n",
            "  warnings.warn(\n",
            "/home/fedrico/.local/lib/python3.10/site-packages/sklearn/base.py:443: UserWarning: X has feature names, but DecisionTreeClassifier was fitted without feature names\n",
            "  warnings.warn(\n"
          ]
        }
      ],
      "source": [
        "arbol_entropy, arbol_entropy_more_complex = init_models()\n",
        "k_fold_result_mean, k_fold_result_arr = k_fold_cross_val(folds_X, folds_y, arbol_entropy, accuracy_score)"
      ]
    },
    {
      "cell_type": "code",
      "execution_count": 87,
      "metadata": {
        "id": "EcON0z5UkhA7"
      },
      "outputs": [],
      "source": [
        "arbol_entropy, arbol_entropy_more_complex = init_models()\n",
        "scores_cv = cross_val_score(arbol_entropy, X_train, y_train, cv=5, scoring='accuracy')"
      ]
    },
    {
      "cell_type": "code",
      "execution_count": 88,
      "metadata": {
        "colab": {
          "base_uri": "https://localhost:8080/"
        },
        "id": "wYRmODaHkmqW",
        "outputId": "a15d1d39-c5c2-4023-a048-6e9a9e1d8e3c"
      },
      "outputs": [
        {
          "name": "stdout",
          "output_type": "stream",
          "text": [
            "Accuracy (k-folds)\n",
            "==================\n",
            "\n",
            "(SKLearn CV) = 0.9448840048840049 [0.93406593 0.94505495 0.96703297 0.95604396 0.92222222]\n",
            "(Manually CV) = 0.940463982 [0.93406593, 0.94505495, 0.95604396, 0.95604396, 0.91111111]\n"
          ]
        }
      ],
      "source": [
        "print(\"Accuracy (k-folds)\")\n",
        "print(\"==================\\n\")\n",
        "print(f'(SKLearn CV) = {np.mean(scores_cv)} {scores_cv}')\n",
        "print(f'(Manually CV) = {k_fold_result_mean} {k_fold_result_arr}')"
      ]
    },
    {
      "cell_type": "markdown",
      "metadata": {
        "id": "nV4U8mBsm4wc"
      },
      "source": [
        "### Grid Search CV"
      ]
    },
    {
      "cell_type": "code",
      "execution_count": 98,
      "metadata": {
        "colab": {
          "base_uri": "https://localhost:8080/"
        },
        "id": "PgDCRZ-Gm6rp",
        "outputId": "5234f184-11c9-4b82-f5ed-899c85d9c36a"
      },
      "outputs": [
        {
          "data": {
            "text/plain": [
              "{'criterion': 'gini', 'max_depth': 2, 'min_samples_split': 2}"
            ]
          },
          "execution_count": 98,
          "metadata": {},
          "output_type": "execute_result"
        }
      ],
      "source": [
        "# definimos la grilla de parámetros que queremos evaluar\n",
        "param_grid = [\n",
        "  {'max_depth': [2, 3, 5, 10, 15], 'min_samples_split': [2, 5, 10, 15], 'criterion': ['entropy', 'gini']}\n",
        " ]\n",
        "\n",
        "# Definimos modelo a utilizar\n",
        "arbol = tree.DecisionTreeClassifier(random_state=5) \n",
        "\n",
        "# Definimos un nuevo modelo GridSearch utilizando el arbol y la grilla\n",
        "#CV_model = GridSearchCV(estimator=arbol, param_grid=param_grid, cv=5, scoring='precision', n_jobs=-1)\n",
        "CV_model = GridSearchCV(estimator=arbol, param_grid=param_grid, cv=5, scoring='recall', n_jobs=-1)\n",
        "\n",
        "# Entrenamos para buscar los mejores paráemtros\n",
        "CV_model.fit(X_train, y_train)\n",
        "CV_results_arbol = pd.DataFrame(CV_model.cv_results_)\n",
        "CV_results_arbol.to_csv('cv_results_arbol.csv')\n",
        "CV_model.best_params_"
      ]
    },
    {
      "cell_type": "code",
      "execution_count": 93,
      "metadata": {
        "colab": {
          "base_uri": "https://localhost:8080/"
        },
        "id": "df0V2U1g9nFc",
        "outputId": "5e5af8f6-a025-4b81-fee1-392c3f2a0db3"
      },
      "outputs": [
        {
          "name": "stdout",
          "output_type": "stream",
          "text": [
            "4_Metricas_CrossValidation.ipynb  cardio_train.csv\n",
            "breast-cancer-wisconsin.csv\t  cv_results_arbol.csv\n"
          ]
        }
      ],
      "source": [
        "! dir"
      ]
    },
    {
      "cell_type": "code",
      "execution_count": null,
      "metadata": {
        "id": "9MasBN1SUpDb"
      },
      "outputs": [],
      "source": [
        "#files.download('cv_results_arbol.csv') "
      ]
    },
    {
      "cell_type": "code",
      "execution_count": 94,
      "metadata": {
        "colab": {
          "base_uri": "https://localhost:8080/",
          "height": 531
        },
        "id": "0HDuWEqk9eot",
        "outputId": "b69fa389-1a9f-4512-e12d-ae07ddb59de8"
      },
      "outputs": [
        {
          "data": {
            "text/html": [
              "<div>\n",
              "<style scoped>\n",
              "    .dataframe tbody tr th:only-of-type {\n",
              "        vertical-align: middle;\n",
              "    }\n",
              "\n",
              "    .dataframe tbody tr th {\n",
              "        vertical-align: top;\n",
              "    }\n",
              "\n",
              "    .dataframe thead th {\n",
              "        text-align: right;\n",
              "    }\n",
              "</style>\n",
              "<table border=\"1\" class=\"dataframe\">\n",
              "  <thead>\n",
              "    <tr style=\"text-align: right;\">\n",
              "      <th></th>\n",
              "      <th>mean_fit_time</th>\n",
              "      <th>std_fit_time</th>\n",
              "      <th>mean_score_time</th>\n",
              "      <th>std_score_time</th>\n",
              "      <th>param_criterion</th>\n",
              "      <th>param_max_depth</th>\n",
              "      <th>param_min_samples_split</th>\n",
              "      <th>params</th>\n",
              "      <th>split0_test_score</th>\n",
              "      <th>split1_test_score</th>\n",
              "      <th>split2_test_score</th>\n",
              "      <th>split3_test_score</th>\n",
              "      <th>split4_test_score</th>\n",
              "      <th>mean_test_score</th>\n",
              "      <th>std_test_score</th>\n",
              "      <th>rank_test_score</th>\n",
              "    </tr>\n",
              "  </thead>\n",
              "  <tbody>\n",
              "    <tr>\n",
              "      <th>0</th>\n",
              "      <td>0.005465</td>\n",
              "      <td>0.000570</td>\n",
              "      <td>0.007296</td>\n",
              "      <td>0.004164</td>\n",
              "      <td>entropy</td>\n",
              "      <td>2</td>\n",
              "      <td>2</td>\n",
              "      <td>{'criterion': 'entropy', 'max_depth': 2, 'min_...</td>\n",
              "      <td>0.837838</td>\n",
              "      <td>0.857143</td>\n",
              "      <td>0.861111</td>\n",
              "      <td>0.911765</td>\n",
              "      <td>0.806452</td>\n",
              "      <td>0.854862</td>\n",
              "      <td>0.034396</td>\n",
              "      <td>37</td>\n",
              "    </tr>\n",
              "    <tr>\n",
              "      <th>1</th>\n",
              "      <td>0.009519</td>\n",
              "      <td>0.009290</td>\n",
              "      <td>0.018130</td>\n",
              "      <td>0.014450</td>\n",
              "      <td>entropy</td>\n",
              "      <td>2</td>\n",
              "      <td>5</td>\n",
              "      <td>{'criterion': 'entropy', 'max_depth': 2, 'min_...</td>\n",
              "      <td>0.837838</td>\n",
              "      <td>0.857143</td>\n",
              "      <td>0.861111</td>\n",
              "      <td>0.911765</td>\n",
              "      <td>0.806452</td>\n",
              "      <td>0.854862</td>\n",
              "      <td>0.034396</td>\n",
              "      <td>37</td>\n",
              "    </tr>\n",
              "    <tr>\n",
              "      <th>2</th>\n",
              "      <td>0.014393</td>\n",
              "      <td>0.007969</td>\n",
              "      <td>0.018789</td>\n",
              "      <td>0.008530</td>\n",
              "      <td>entropy</td>\n",
              "      <td>2</td>\n",
              "      <td>10</td>\n",
              "      <td>{'criterion': 'entropy', 'max_depth': 2, 'min_...</td>\n",
              "      <td>0.837838</td>\n",
              "      <td>0.857143</td>\n",
              "      <td>0.861111</td>\n",
              "      <td>0.911765</td>\n",
              "      <td>0.806452</td>\n",
              "      <td>0.854862</td>\n",
              "      <td>0.034396</td>\n",
              "      <td>37</td>\n",
              "    </tr>\n",
              "    <tr>\n",
              "      <th>3</th>\n",
              "      <td>0.027035</td>\n",
              "      <td>0.009715</td>\n",
              "      <td>0.020459</td>\n",
              "      <td>0.008351</td>\n",
              "      <td>entropy</td>\n",
              "      <td>2</td>\n",
              "      <td>15</td>\n",
              "      <td>{'criterion': 'entropy', 'max_depth': 2, 'min_...</td>\n",
              "      <td>0.837838</td>\n",
              "      <td>0.857143</td>\n",
              "      <td>0.861111</td>\n",
              "      <td>0.911765</td>\n",
              "      <td>0.806452</td>\n",
              "      <td>0.854862</td>\n",
              "      <td>0.034396</td>\n",
              "      <td>37</td>\n",
              "    </tr>\n",
              "    <tr>\n",
              "      <th>4</th>\n",
              "      <td>0.008165</td>\n",
              "      <td>0.004046</td>\n",
              "      <td>0.016583</td>\n",
              "      <td>0.012598</td>\n",
              "      <td>entropy</td>\n",
              "      <td>3</td>\n",
              "      <td>2</td>\n",
              "      <td>{'criterion': 'entropy', 'max_depth': 3, 'min_...</td>\n",
              "      <td>0.903226</td>\n",
              "      <td>0.964286</td>\n",
              "      <td>1.000000</td>\n",
              "      <td>0.906250</td>\n",
              "      <td>0.815789</td>\n",
              "      <td>0.917910</td>\n",
              "      <td>0.062721</td>\n",
              "      <td>18</td>\n",
              "    </tr>\n",
              "  </tbody>\n",
              "</table>\n",
              "</div>"
            ],
            "text/plain": [
              "   mean_fit_time  std_fit_time  mean_score_time  std_score_time  \\\n",
              "0       0.005465      0.000570         0.007296        0.004164   \n",
              "1       0.009519      0.009290         0.018130        0.014450   \n",
              "2       0.014393      0.007969         0.018789        0.008530   \n",
              "3       0.027035      0.009715         0.020459        0.008351   \n",
              "4       0.008165      0.004046         0.016583        0.012598   \n",
              "\n",
              "  param_criterion param_max_depth param_min_samples_split  \\\n",
              "0         entropy               2                       2   \n",
              "1         entropy               2                       5   \n",
              "2         entropy               2                      10   \n",
              "3         entropy               2                      15   \n",
              "4         entropy               3                       2   \n",
              "\n",
              "                                              params  split0_test_score  \\\n",
              "0  {'criterion': 'entropy', 'max_depth': 2, 'min_...           0.837838   \n",
              "1  {'criterion': 'entropy', 'max_depth': 2, 'min_...           0.837838   \n",
              "2  {'criterion': 'entropy', 'max_depth': 2, 'min_...           0.837838   \n",
              "3  {'criterion': 'entropy', 'max_depth': 2, 'min_...           0.837838   \n",
              "4  {'criterion': 'entropy', 'max_depth': 3, 'min_...           0.903226   \n",
              "\n",
              "   split1_test_score  split2_test_score  split3_test_score  split4_test_score  \\\n",
              "0           0.857143           0.861111           0.911765           0.806452   \n",
              "1           0.857143           0.861111           0.911765           0.806452   \n",
              "2           0.857143           0.861111           0.911765           0.806452   \n",
              "3           0.857143           0.861111           0.911765           0.806452   \n",
              "4           0.964286           1.000000           0.906250           0.815789   \n",
              "\n",
              "   mean_test_score  std_test_score  rank_test_score  \n",
              "0         0.854862        0.034396               37  \n",
              "1         0.854862        0.034396               37  \n",
              "2         0.854862        0.034396               37  \n",
              "3         0.854862        0.034396               37  \n",
              "4         0.917910        0.062721               18  "
            ]
          },
          "execution_count": 94,
          "metadata": {},
          "output_type": "execute_result"
        }
      ],
      "source": [
        "CV_results_arbol.head()"
      ]
    },
    {
      "cell_type": "markdown",
      "metadata": {},
      "source": [
        "### Favoreciendo el recall"
      ]
    },
    {
      "cell_type": "code",
      "execution_count": 99,
      "metadata": {},
      "outputs": [
        {
          "name": "stdout",
          "output_type": "stream",
          "text": [
            "              precision    recall  f1-score   support\n",
            "\n",
            "           0       0.98      0.93      0.96       164\n",
            "           1       0.88      0.96      0.92        81\n",
            "\n",
            "    accuracy                           0.94       245\n",
            "   macro avg       0.93      0.95      0.94       245\n",
            "weighted avg       0.95      0.94      0.94       245\n",
            " \n",
            "\n"
          ]
        },
        {
          "name": "stderr",
          "output_type": "stream",
          "text": [
            "/home/fedrico/.local/lib/python3.10/site-packages/sklearn/utils/deprecation.py:87: FutureWarning: Function plot_confusion_matrix is deprecated; Function `plot_confusion_matrix` is deprecated in 1.0 and will be removed in 1.2. Use one of the class methods: ConfusionMatrixDisplay.from_predictions or ConfusionMatrixDisplay.from_estimator.\n",
            "  warnings.warn(msg, category=FutureWarning)\n"
          ]
        },
        {
          "data": {
            "text/plain": [
              "<sklearn.metrics._plot.confusion_matrix.ConfusionMatrixDisplay at 0x7f4c00f35270>"
            ]
          },
          "execution_count": 99,
          "metadata": {},
          "output_type": "execute_result"
        },
        {
          "data": {
            "image/png": "[encoded data removed]",
            "text/plain": [
              "<Figure size 640x480 with 2 Axes>"
            ]
          },
          "metadata": {},
          "output_type": "display_data"
        }
      ],
      "source": [
        "arbol_best_parameters = tree.DecisionTreeClassifier(criterion='gini', max_depth=2, min_samples_split=2)\n",
        "arbol_best_parameters.fit(X_train, y_train)\n",
        "y_pred = arbol_best_parameters.predict(X_test)\n",
        "\n",
        "print(classification_report(y_test, y_pred),\"\\n\")\n",
        "plot_confusion_matrix(arbol_best_parameters, X_test, y_test)"
      ]
    },
    {
      "cell_type": "code",
      "execution_count": 97,
      "metadata": {
        "colab": {
          "base_uri": "https://localhost:8080/",
          "height": 525
        },
        "id": "jYb9J-RG8FfA",
        "outputId": "ce9935ae-45e4-46af-dc3d-a44875bdfd74"
      },
      "outputs": [
        {
          "name": "stdout",
          "output_type": "stream",
          "text": [
            "              precision    recall  f1-score   support\n",
            "\n",
            "           0       0.92      0.96      0.94       164\n",
            "           1       0.91      0.84      0.87        81\n",
            "\n",
            "    accuracy                           0.92       245\n",
            "   macro avg       0.92      0.90      0.91       245\n",
            "weighted avg       0.92      0.92      0.92       245\n",
            " \n",
            "\n"
          ]
        },
        {
          "name": "stderr",
          "output_type": "stream",
          "text": [
            "/home/fedrico/.local/lib/python3.10/site-packages/sklearn/utils/deprecation.py:87: FutureWarning: Function plot_confusion_matrix is deprecated; Function `plot_confusion_matrix` is deprecated in 1.0 and will be removed in 1.2. Use one of the class methods: ConfusionMatrixDisplay.from_predictions or ConfusionMatrixDisplay.from_estimator.\n",
            "  warnings.warn(msg, category=FutureWarning)\n"
          ]
        },
        {
          "data": {
            "text/plain": [
              "<sklearn.metrics._plot.confusion_matrix.ConfusionMatrixDisplay at 0x7f4c00f57910>"
            ]
          },
          "execution_count": 97,
          "metadata": {},
          "output_type": "execute_result"
        },
        {
          "data": {
            "image/png": "[encoded data removed]",
            "text/plain": [
              "<Figure size 640x480 with 2 Axes>"
            ]
          },
          "metadata": {},
          "output_type": "display_data"
        }
      ],
      "source": [
        "arbol_best_parameters = tree.DecisionTreeClassifier(criterion='gini', max_depth=10, min_samples_split=5)\n",
        "arbol_best_parameters.fit(X_train, y_train)\n",
        "y_pred = arbol_best_parameters.predict(X_test)\n",
        "\n",
        "print(classification_report(y_test, y_pred),\"\\n\")\n",
        "plot_confusion_matrix(arbol_best_parameters, X_test, y_test)"
      ]
    },
    {
      "cell_type": "markdown",
      "metadata": {},
      "source": [
        "### Favoreciendo el Precision"
      ]
    },
    {
      "cell_type": "code",
      "execution_count": 119,
      "metadata": {},
      "outputs": [
        {
          "name": "stdout",
          "output_type": "stream",
          "text": [
            "              precision    recall  f1-score   support\n",
            "\n",
            "           0       0.90      0.96      0.93       164\n",
            "           1       0.91      0.79      0.85        81\n",
            "\n",
            "    accuracy                           0.91       245\n",
            "   macro avg       0.91      0.88      0.89       245\n",
            "weighted avg       0.91      0.91      0.90       245\n",
            " \n",
            "\n"
          ]
        },
        {
          "name": "stderr",
          "output_type": "stream",
          "text": [
            "c:\\ProgramData\\Anaconda3\\lib\\site-packages\\sklearn\\utils\\deprecation.py:87: FutureWarning: Function plot_confusion_matrix is deprecated; Function `plot_confusion_matrix` is deprecated in 1.0 and will be removed in 1.2. Use one of the class methods: ConfusionMatrixDisplay.from_predictions or ConfusionMatrixDisplay.from_estimator.\n",
            "  warnings.warn(msg, category=FutureWarning)\n"
          ]
        },
        {
          "data": {
            "text/plain": [
              "<sklearn.metrics._plot.confusion_matrix.ConfusionMatrixDisplay at 0x2096d2746d0>"
            ]
          },
          "execution_count": 119,
          "metadata": {},
          "output_type": "execute_result"
        },
        {
          "data": {
            "image/png": "[encoded data removed]",
            "text/plain": [
              "<Figure size 432x288 with 2 Axes>"
            ]
          },
          "metadata": {
            "needs_background": "light"
          },
          "output_type": "display_data"
        }
      ],
      "source": [
        "arbol_best_parameters = tree.DecisionTreeClassifier(criterion= 'gini', max_depth= 15, min_samples_split= 5)\n",
        "arbol_best_parameters.fit(X_train, y_train)\n",
        "y_pred = arbol_best_parameters.predict(X_test)\n",
        "\n",
        "print(classification_report(y_test, y_pred),\"\\n\")\n",
        "plot_confusion_matrix(arbol_best_parameters, X_test, y_test)"
      ]
    },
    {
      "cell_type": "markdown",
      "metadata": {
        "id": "cN7ujLJn9qEz"
      },
      "source": [
        "## Ejercicio 4\n",
        "El dataset cardio_train.csv contiene 70mil registros con 11 features para clasificar si una persona tiene o no una enfermedad cardiovascular.  \n",
        "\n",
        "El objetivo de este ejercicio es que carguen el dataset, lo exploren, hagan las modificaciones necesarias, entrenen modelos, ajusten hiperparámetros, predigan y evalúen resultados.\n",
        "\n",
        "(Los comentarios anteriores son a modo de guía, utilicen las herramientas vistas hasta el momento como consideren correcto)."
      ]
    },
    {
      "cell_type": "markdown",
      "metadata": {
        "id": "wMejMHiI-EAS"
      },
      "source": [
        "Descripción de las features:\n",
        "\n",
        "* Age (age): int (days)\n",
        "* Height (height): int (cm)\n",
        "* Weight (weight): float (kg)\n",
        "* Gender (gender): categorical code\n",
        "* Systolic blood pressure (ap_hi): int\n",
        "* Diastolic blood pressure (ap_lo): int\n",
        "* Cholesterol (cholesterol): \n",
        "  * 1: normal\n",
        "  * 2: above normal\n",
        "  * 3: well above normal\n",
        "* Glucose (gluc): \n",
        "  * 1: normal\n",
        "  * 2: above normal\n",
        "  * 3: well above normal\n",
        "* Smoking (smoke): binary\n",
        "* Alcohol intake (alco): binary\n",
        "* Physical activity (active): binary\n",
        "* Presence or absence of cardiovascular disease (cardio): binary"
      ]
    },
    {
      "cell_type": "code",
      "execution_count": null,
      "metadata": {
        "id": "pKKY5mrF-DOo"
      },
      "outputs": [],
      "source": [
        "cardio_df = pd.read_csv(\"./cardio_train.csv\", sep = \";\")"
      ]
    },
    {
      "cell_type": "code",
      "execution_count": null,
      "metadata": {
        "colab": {
          "base_uri": "https://localhost:8080/",
          "height": 206
        },
        "id": "mbtLP3t0--rs",
        "outputId": "42d646e6-4303-4b93-ff37-c9dcc101e47d"
      },
      "outputs": [
        {
          "data": {
            "text/html": [
              "\n",
              "  <div id=\"df-9eb9b7a4-60dd-41ec-be0d-65931a3ced70\">\n",
              "    <div class=\"colab-df-container\">\n",
              "      <div>\n",
              "<style scoped>\n",
              "    .dataframe tbody tr th:only-of-type {\n",
              "        vertical-align: middle;\n",
              "    }\n",
              "\n",
              "    .dataframe tbody tr th {\n",
              "        vertical-align: top;\n",
              "    }\n",
              "\n",
              "    .dataframe thead th {\n",
              "        text-align: right;\n",
              "    }\n",
              "</style>\n",
              "<table border=\"1\" class=\"dataframe\">\n",
              "  <thead>\n",
              "    <tr style=\"text-align: right;\">\n",
              "      <th></th>\n",
              "      <th>id</th>\n",
              "      <th>age</th>\n",
              "      <th>gender</th>\n",
              "      <th>height</th>\n",
              "      <th>weight</th>\n",
              "      <th>ap_hi</th>\n",
              "      <th>ap_lo</th>\n",
              "      <th>cholesterol</th>\n",
              "      <th>gluc</th>\n",
              "      <th>smoke</th>\n",
              "      <th>alco</th>\n",
              "      <th>active</th>\n",
              "      <th>cardio</th>\n",
              "    </tr>\n",
              "  </thead>\n",
              "  <tbody>\n",
              "    <tr>\n",
              "      <th>0</th>\n",
              "      <td>0</td>\n",
              "      <td>18393</td>\n",
              "      <td>2</td>\n",
              "      <td>168</td>\n",
              "      <td>62.0</td>\n",
              "      <td>110</td>\n",
              "      <td>80</td>\n",
              "      <td>1</td>\n",
              "      <td>1</td>\n",
              "      <td>0</td>\n",
              "      <td>0</td>\n",
              "      <td>1</td>\n",
              "      <td>0</td>\n",
              "    </tr>\n",
              "    <tr>\n",
              "      <th>1</th>\n",
              "      <td>1</td>\n",
              "      <td>20228</td>\n",
              "      <td>1</td>\n",
              "      <td>156</td>\n",
              "      <td>85.0</td>\n",
              "      <td>140</td>\n",
              "      <td>90</td>\n",
              "      <td>3</td>\n",
              "      <td>1</td>\n",
              "      <td>0</td>\n",
              "      <td>0</td>\n",
              "      <td>1</td>\n",
              "      <td>1</td>\n",
              "    </tr>\n",
              "    <tr>\n",
              "      <th>2</th>\n",
              "      <td>2</td>\n",
              "      <td>18857</td>\n",
              "      <td>1</td>\n",
              "      <td>165</td>\n",
              "      <td>64.0</td>\n",
              "      <td>130</td>\n",
              "      <td>70</td>\n",
              "      <td>3</td>\n",
              "      <td>1</td>\n",
              "      <td>0</td>\n",
              "      <td>0</td>\n",
              "      <td>0</td>\n",
              "      <td>1</td>\n",
              "    </tr>\n",
              "    <tr>\n",
              "      <th>3</th>\n",
              "      <td>3</td>\n",
              "      <td>17623</td>\n",
              "      <td>2</td>\n",
              "      <td>169</td>\n",
              "      <td>82.0</td>\n",
              "      <td>150</td>\n",
              "      <td>100</td>\n",
              "      <td>1</td>\n",
              "      <td>1</td>\n",
              "      <td>0</td>\n",
              "      <td>0</td>\n",
              "      <td>1</td>\n",
              "      <td>1</td>\n",
              "    </tr>\n",
              "    <tr>\n",
              "      <th>4</th>\n",
              "      <td>4</td>\n",
              "      <td>17474</td>\n",
              "      <td>1</td>\n",
              "      <td>156</td>\n",
              "      <td>56.0</td>\n",
              "      <td>100</td>\n",
              "      <td>60</td>\n",
              "      <td>1</td>\n",
              "      <td>1</td>\n",
              "      <td>0</td>\n",
              "      <td>0</td>\n",
              "      <td>0</td>\n",
              "      <td>0</td>\n",
              "    </tr>\n",
              "  </tbody>\n",
              "</table>\n",
              "</div>\n",
              "      <button class=\"colab-df-convert\" onclick=\"convertToInteractive('df-9eb9b7a4-60dd-41ec-be0d-65931a3ced70')\"\n",
              "              title=\"Convert this dataframe to an interactive table.\"\n",
              "              style=\"display:none;\">\n",
              "        \n",
              "  <svg xmlns=\"http://www.w3.org/2000/svg\" height=\"24px\"viewBox=\"0 0 24 24\"\n",
              "       width=\"24px\">\n",
              "    <path d=\"M0 0h24v24H0V0z\" fill=\"none\"/>\n",
              "    <path d=\"M18.56 5.44l.94 2.06.94-2.06 2.06-.94-2.06-.94-.94-2.06-.94 2.06-2.06.94zm-11 1L8.5 8.5l.94-2.06 2.06-.94-2.06-.94L8.5 2.5l-.94 2.06-2.06.94zm10 10l.94 2.06.94-2.06 2.06-.94-2.06-.94-.94-2.06-.94 2.06-2.06.94z\"/><path d=\"M17.41 7.96l-1.37-1.37c-.4-.4-.92-.59-1.43-.59-.52 0-1.04.2-1.43.59L10.3 9.45l-7.72 7.72c-.78.78-.78 2.05 0 2.83L4 21.41c.39.39.9.59 1.41.59.51 0 1.02-.2 1.41-.59l7.78-7.78 2.81-2.81c.8-.78.8-2.07 0-2.86zM5.41 20L4 18.59l7.72-7.72 1.47 1.35L5.41 20z\"/>\n",
              "  </svg>\n",
              "      </button>\n",
              "      \n",
              "  <style>\n",
              "    .colab-df-container {\n",
              "      display:flex;\n",
              "      flex-wrap:wrap;\n",
              "      gap: 12px;\n",
              "    }\n",
              "\n",
              "    .colab-df-convert {\n",
              "      background-color: #E8F0FE;\n",
              "      border: none;\n",
              "      border-radius: 50%;\n",
              "      cursor: pointer;\n",
              "      display: none;\n",
              "      fill: #1967D2;\n",
              "      height: 32px;\n",
              "      padding: 0 0 0 0;\n",
              "      width: 32px;\n",
              "    }\n",
              "\n",
              "    .colab-df-convert:hover {\n",
              "      background-color: #E2EBFA;\n",
              "      box-shadow: 0px 1px 2px rgba(60, 64, 67, 0.3), 0px 1px 3px 1px rgba(60, 64, 67, 0.15);\n",
              "      fill: #174EA6;\n",
              "    }\n",
              "\n",
              "    [theme=dark] .colab-df-convert {\n",
              "      background-color: #3B4455;\n",
              "      fill: #D2E3FC;\n",
              "    }\n",
              "\n",
              "    [theme=dark] .colab-df-convert:hover {\n",
              "      background-color: #434B5C;\n",
              "      box-shadow: 0px 1px 3px 1px rgba(0, 0, 0, 0.15);\n",
              "      filter: drop-shadow(0px 1px 2px rgba(0, 0, 0, 0.3));\n",
              "      fill: #FFFFFF;\n",
              "    }\n",
              "  </style>\n",
              "\n",
              "      <script>\n",
              "        const buttonEl =\n",
              "          document.querySelector('#df-9eb9b7a4-60dd-41ec-be0d-65931a3ced70 button.colab-df-convert');\n",
              "        buttonEl.style.display =\n",
              "          google.colab.kernel.accessAllowed ? 'block' : 'none';\n",
              "\n",
              "        async function convertToInteractive(key) {\n",
              "          const element = document.querySelector('#df-9eb9b7a4-60dd-41ec-be0d-65931a3ced70');\n",
              "          const dataTable =\n",
              "            await google.colab.kernel.invokeFunction('convertToInteractive',\n",
              "                                                     [key], {});\n",
              "          if (!dataTable) return;\n",
              "\n",
              "          const docLinkHtml = 'Like what you see? Visit the ' +\n",
              "            '<a target=\"_blank\" href=https://colab.research.google.com/notebooks/data_table.ipynb>data table notebook</a>'\n",
              "            + ' to learn more about interactive tables.';\n",
              "          element.innerHTML = '';\n",
              "          dataTable['output_type'] = 'display_data';\n",
              "          await google.colab.output.renderOutput(dataTable, element);\n",
              "          const docLink = document.createElement('div');\n",
              "          docLink.innerHTML = docLinkHtml;\n",
              "          element.appendChild(docLink);\n",
              "        }\n",
              "      </script>\n",
              "    </div>\n",
              "  </div>\n",
              "  "
            ],
            "text/plain": [
              "   id    age  gender  height  weight  ap_hi  ap_lo  cholesterol  gluc  smoke  \\\n",
              "0   0  18393       2     168    62.0    110     80            1     1      0   \n",
              "1   1  20228       1     156    85.0    140     90            3     1      0   \n",
              "2   2  18857       1     165    64.0    130     70            3     1      0   \n",
              "3   3  17623       2     169    82.0    150    100            1     1      0   \n",
              "4   4  17474       1     156    56.0    100     60            1     1      0   \n",
              "\n",
              "   alco  active  cardio  \n",
              "0     0       1       0  \n",
              "1     0       1       1  \n",
              "2     0       0       1  \n",
              "3     0       1       1  \n",
              "4     0       0       0  "
            ]
          },
          "execution_count": 142,
          "metadata": {},
          "output_type": "execute_result"
        }
      ],
      "source": [
        "cardio_df.head()"
      ]
    },
    {
      "cell_type": "code",
      "execution_count": null,
      "metadata": {
        "id": "la_wff6IEy9g"
      },
      "outputs": [],
      "source": [
        "# Su código"
      ]
    }
  ],
  "metadata": {
    "colab": {
      "provenance": []
    },
    "kernelspec": {
      "display_name": "Python 3.9.12 ('base')",
      "language": "python",
      "name": "python3"
    },
    "language_info": {
      "codemirror_mode": {
        "name": "ipython",
        "version": 3
      },
      "file_extension": ".py",
      "mimetype": "text/x-python",
      "name": "python",
      "nbconvert_exporter": "python",
      "pygments_lexer": "ipython3",
      "version": "3.9.12"
    },
    "vscode": {
      "interpreter": {
        "hash": "ad2bdc8ecc057115af97d19610ffacc2b4e99fae6737bb82f5d7fb13d2f2c186"
      }
    }
  },
  "nbformat": 4,
  "nbformat_minor": 0
}
